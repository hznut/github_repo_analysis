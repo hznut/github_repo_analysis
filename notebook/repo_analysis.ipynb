{
 "cells": [
  {
   "cell_type": "code",
   "execution_count": null,
   "id": "beab1bb2-dd57-4fb5-a4f5-a476ee803fbd",
   "metadata": {},
   "outputs": [],
   "source": [
    "pip install plotly==5.6.0 pandas matplotlib squarify"
   ]
  },
  {
   "cell_type": "code",
   "execution_count": null,
   "id": "02006725-fe54-4895-b38b-45e32e6178f4",
   "metadata": {},
   "outputs": [],
   "source": [
    "import requests\n",
    "import json\n",
    "import time\n",
    "import numpy as np\n",
    "import os\n",
    "\n",
    "loc_percentages = []\n",
    "loc = []\n",
    "loc_committers = []\n",
    "freq_committers = []\n",
    "freq_committer_scores = []\n",
    "\n",
    "def analyze_repo(repo_url):\n",
    "    global loc_percentages\n",
    "    global loc\n",
    "    global loc_committers\n",
    "    global freq_committers\n",
    "    global freq_committer_scores\n",
    "    api_url = os.getenv('REST_API_URL')  # \"http://rest-api/repo-analysis/api/analysis\"\n",
    "    # repo_url = \"https://github.com/apache/kafka\"\n",
    "    query_string = {'repo_url': repo_url}\n",
    "    headers = {'Accept': 'application/json'}\n",
    "\n",
    "    done = False\n",
    "    while not done:\n",
    "        response = requests.request(\"GET\", api_url, headers=headers, params=query_string)\n",
    "        res_obj = json.loads(response.text)\n",
    "        if res_obj['status'] != 'done': \n",
    "            print('.', end='')\n",
    "            time.sleep(5)\n",
    "            continue\n",
    "        else:\n",
    "            print('')\n",
    "            loc_percentages = [detail['loc_percentage'] for detail in res_obj['loc_analysis'].values()]\n",
    "            loc = [detail['loc'] for detail in res_obj['loc_analysis'].values()]\n",
    "            print(f\"Top five loc_percentages={loc_percentages[:5]}\")\n",
    "            print(f\"Top five loc={loc[:5]}\")\n",
    "\n",
    "            loc_committers = list(res_obj['loc_analysis'].keys())\n",
    "            print(f\"Top five committers={loc_committers[:5]}\")\n",
    "            \n",
    "            freq_committers = list(res_obj['commit_freq_analysis'].keys())\n",
    "            print(f\"Top five frequent committers={freq_committers[:5]}\")\n",
    "            freq_committer_scores = list(res_obj['commit_freq_analysis'].values())\n",
    "            print(f\"Top five frequent committer scores={freq_committer_scores[:5]}\")\n",
    "            done = True"
   ]
  },
  {
   "cell_type": "code",
   "execution_count": null,
   "id": "ad829e7a-dee3-4554-a170-b8b29fd8d663",
   "metadata": {},
   "outputs": [],
   "source": [
    "import matplotlib.pyplot as plt\n",
    "\n",
    "def plot_analysis(committers, committers_stats, repo_url, title):\n",
    "\n",
    "    fig, ax = plt.subplots(figsize=(10, 10), subplot_kw=dict(aspect=\"equal\"))\n",
    "\n",
    "    wedges, texts = ax.pie(committers_stats, wedgeprops=dict(width=0.5), startangle=-40)\n",
    "\n",
    "    bbox_props = dict(boxstyle=\"square,pad=0.3\", fc=\"w\", ec=\"k\", lw=0.72)\n",
    "    kw = dict(arrowprops=dict(arrowstyle=\"-\"),\n",
    "              bbox=bbox_props, zorder=0, va=\"center\")\n",
    "\n",
    "    for i, p in enumerate(wedges):\n",
    "        ang = (p.theta2 - p.theta1)/2. + p.theta1\n",
    "        y = np.sin(np.deg2rad(ang))\n",
    "        x = np.cos(np.deg2rad(ang))\n",
    "        horizontalalignment = {-1: \"right\", 1: \"left\"}[int(np.sign(x))]\n",
    "        connectionstyle = \"angle,angleA=0,angleB={}\".format(ang)\n",
    "        kw[\"arrowprops\"].update({\"connectionstyle\": connectionstyle})\n",
    "        ax.annotate(committers[i], xy=(x, y), xytext=(1.35*np.sign(x), 1.4*y),\n",
    "                    horizontalalignment=horizontalalignment, **kw)\n",
    "\n",
    "    ax.set_title(f\"{title}\\nRepo={repo_url}\")\n",
    "\n",
    "    plt.show()"
   ]
  },
  {
   "cell_type": "code",
   "execution_count": null,
   "id": "35441c3d-f28d-4ae4-8c14-dac1c41ad7ca",
   "metadata": {},
   "outputs": [],
   "source": [
    "repo_url = 'https://github.com/axios/axios'"
   ]
  },
  {
   "cell_type": "code",
   "execution_count": null,
   "id": "35441c3d-f28d-4ae4-9c14-dac1c41ad7cf",
   "metadata": {},
   "outputs": [],
   "source": [
    "analyze_repo(repo_url)"
   ]
  },
  {
   "cell_type": "markdown",
   "id": "fe9f5d70-503f-9bb2-9907-86f0e12ed6d4",
   "metadata": {},
   "source": [
    "# Fetching data. This may take several minutes (10+) for big/popular repos (eg. Apache Kafka, Apache Druid).\nSome suggestions are: https://github.com/search?q=stars%3A%22%3E+100%22+size%3A%3C5000&type=Repositories&ref=advsearch&l=&l="
   ]
  },
  {
   "cell_type": "markdown",
   "id": "fb9f5d30-503f-4bb2-9907-86f0e12ed6d4",
   "metadata": {},
   "source": [
    "# Who has committed most Lines of Code (loc) to master branch head ?"
   ]
  },
  {
   "cell_type": "code",
   "execution_count": null,
   "id": "27db4d6d-a525-4cdf-ac12-b8548fbd1d4c",
   "metadata": {},
   "outputs": [],
   "source": [
    "plot_analysis(loc_committers, loc_percentages, repo_url, 'Distribution by loc% per committers for the master branch head')"
   ]
  },
  {
   "cell_type": "markdown",
   "id": "3a867e64-adab-4d93-9107-fe66a3dd91ff",
   "metadata": {},
   "source": [
    "# In the last one year who committed most frequently to the master branch ?"
   ]
  },
  {
   "cell_type": "code",
   "execution_count": null,
   "id": "561fb762-c705-435d-ba0d-d9618909ce6d",
   "metadata": {},
   "outputs": [],
   "source": [
    "plot_analysis(freq_committers, freq_committer_scores, repo_url, 'Distribution by consistency-score per committer for the master branch head')"
   ]
  },
  {
   "cell_type": "code",
   "execution_count": null,
   "id": "e45ceeef-fdb9-4677-b2b9-b71ae85a19d2",
   "metadata": {},
   "outputs": [],
   "source": []
  }
 ],
 "metadata": {
  "kernelspec": {
   "display_name": "Python 3 (ipykernel)",
   "language": "python",
   "name": "python3"
  },
  "language_info": {
   "codemirror_mode": {
    "name": "ipython",
    "version": 3
   },
   "file_extension": ".py",
   "mimetype": "text/x-python",
   "name": "python",
   "nbconvert_exporter": "python",
   "pygments_lexer": "ipython3",
   "version": "3.9.10"
  }
 },
 "nbformat": 4,
 "nbformat_minor": 5
}
